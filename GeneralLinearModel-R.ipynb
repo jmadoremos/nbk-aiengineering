{
 "cells": [
  {
   "cell_type": "code",
   "execution_count": 1,
   "metadata": {},
   "outputs": [
    {
     "data": {
      "text/plain": [
       "\n",
       "\tF test to compare two variances\n",
       "\n",
       "data:  x and y\n",
       "F = 3.053, num df = 49, denom df = 49, p-value = 0.000149\n",
       "alternative hypothesis: true ratio of variances is not equal to 1\n",
       "95 percent confidence interval:\n",
       " 1.732528 5.380034\n",
       "sample estimates:\n",
       "ratio of variances \n",
       "          3.053041 \n"
      ]
     },
     "metadata": {},
     "output_type": "display_data"
    },
    {
     "data": {
      "text/plain": [
       "\n",
       "\tF test to compare two variances\n",
       "\n",
       "data:  lm(x ~ 1) and lm(y ~ 1)\n",
       "F = 3.053, num df = 49, denom df = 49, p-value = 0.000149\n",
       "alternative hypothesis: true ratio of variances is not equal to 1\n",
       "95 percent confidence interval:\n",
       " 1.732528 5.380034\n",
       "sample estimates:\n",
       "ratio of variances \n",
       "          3.053041 \n"
      ]
     },
     "metadata": {},
     "output_type": "display_data"
    }
   ],
   "source": [
    "x <- rnorm(50, mean = 0, sd = 2)\n",
    "y <- rnorm(50, mean = 1, sd = 1)\n",
    "var.test(x, y)                  # Do x and y have the same variance?\n",
    "var.test(lm(x ~ 1), lm(y ~ 1))  # The same."
   ]
  },
  {
   "cell_type": "code",
   "execution_count": 2,
   "metadata": {},
   "outputs": [
    {
     "data": {
      "text/plain": [
       "\n",
       "\tWelch Two Sample t-test\n",
       "\n",
       "data:  1:10 and c(7:20)\n",
       "t = -5.4349, df = 21.982, p-value = 1.855e-05\n",
       "alternative hypothesis: true difference in means is not equal to 0\n",
       "95 percent confidence interval:\n",
       " -11.052802  -4.947198\n",
       "sample estimates:\n",
       "mean of x mean of y \n",
       "      5.5      13.5 \n"
      ]
     },
     "metadata": {},
     "output_type": "display_data"
    },
    {
     "data": {
      "text/plain": [
       "\n",
       "\tWelch Two Sample t-test\n",
       "\n",
       "data:  1:10 and c(7:20, 200)\n",
       "t = -1.6329, df = 14.165, p-value = 0.1245\n",
       "alternative hypothesis: true difference in means is not equal to 0\n",
       "95 percent confidence interval:\n",
       " -47.242900   6.376233\n",
       "sample estimates:\n",
       "mean of x mean of y \n",
       "  5.50000  25.93333 \n"
      ]
     },
     "metadata": {},
     "output_type": "display_data"
    },
    {
     "data": {
      "text/plain": [
       "\n",
       "\tWelch Two Sample t-test\n",
       "\n",
       "data:  extra[group == 1] and extra[group == 2]\n",
       "t = -1.8608, df = 17.776, p-value = 0.07939\n",
       "alternative hypothesis: true difference in means is not equal to 0\n",
       "95 percent confidence interval:\n",
       " -3.3654832  0.2054832\n",
       "sample estimates:\n",
       "mean of x mean of y \n",
       "     0.75      2.33 \n"
      ]
     },
     "metadata": {},
     "output_type": "display_data"
    },
    {
     "data": {
      "text/plain": [
       "\n",
       "\tWelch Two Sample t-test\n",
       "\n",
       "data:  extra by group\n",
       "t = -1.8608, df = 17.776, p-value = 0.07939\n",
       "alternative hypothesis: true difference in means is not equal to 0\n",
       "95 percent confidence interval:\n",
       " -3.3654832  0.2054832\n",
       "sample estimates:\n",
       "mean in group 1 mean in group 2 \n",
       "           0.75            2.33 \n"
      ]
     },
     "metadata": {},
     "output_type": "display_data"
    },
    {
     "data": {
      "text/html": [
       "<table>\n",
       "<thead><tr><th></th><th scope=col>Df</th><th scope=col>Sum Sq</th><th scope=col>Mean Sq</th><th scope=col>F value</th><th scope=col>Pr(&gt;F)</th></tr></thead>\n",
       "<tbody>\n",
       "\t<tr><th scope=row>pop15</th><td> 1          </td><td>204.11757   </td><td>204.11757   </td><td>14.1157322  </td><td>0.0004921955</td></tr>\n",
       "\t<tr><th scope=row>pop75</th><td> 1          </td><td> 53.34271   </td><td> 53.34271   </td><td> 3.6889104  </td><td>0.0611254598</td></tr>\n",
       "\t<tr><th scope=row>dpi</th><td> 1          </td><td> 12.40095   </td><td> 12.40095   </td><td> 0.8575863  </td><td>0.3593550848</td></tr>\n",
       "\t<tr><th scope=row>ddpi</th><td> 1          </td><td> 63.05403   </td><td> 63.05403   </td><td> 4.3604959  </td><td>0.0424711387</td></tr>\n",
       "\t<tr><th scope=row>Residuals</th><td>45          </td><td>650.71300   </td><td> 14.46029   </td><td>        NA  </td><td>          NA</td></tr>\n",
       "</tbody>\n",
       "</table>\n"
      ],
      "text/latex": [
       "\\begin{tabular}{r|lllll}\n",
       "  & Df & Sum Sq & Mean Sq & F value & Pr(>F)\\\\\n",
       "\\hline\n",
       "\tpop15 &  1           & 204.11757    & 204.11757    & 14.1157322   & 0.0004921955\\\\\n",
       "\tpop75 &  1           &  53.34271    &  53.34271    &  3.6889104   & 0.0611254598\\\\\n",
       "\tdpi &  1           &  12.40095    &  12.40095    &  0.8575863   & 0.3593550848\\\\\n",
       "\tddpi &  1           &  63.05403    &  63.05403    &  4.3604959   & 0.0424711387\\\\\n",
       "\tResiduals & 45           & 650.71300    &  14.46029    &         NA   &           NA\\\\\n",
       "\\end{tabular}\n"
      ],
      "text/markdown": [
       "\n",
       "| <!--/--> | Df | Sum Sq | Mean Sq | F value | Pr(>F) | \n",
       "|---|---|---|---|---|\n",
       "| pop15 |  1           | 204.11757    | 204.11757    | 14.1157322   | 0.0004921955 | \n",
       "| pop75 |  1           |  53.34271    |  53.34271    |  3.6889104   | 0.0611254598 | \n",
       "| dpi |  1           |  12.40095    |  12.40095    |  0.8575863   | 0.3593550848 | \n",
       "| ddpi |  1           |  63.05403    |  63.05403    |  4.3604959   | 0.0424711387 | \n",
       "| Residuals | 45           | 650.71300    |  14.46029    |         NA   |           NA | \n",
       "\n",
       "\n"
      ],
      "text/plain": [
       "          Df Sum Sq    Mean Sq   F value    Pr(>F)      \n",
       "pop15      1 204.11757 204.11757 14.1157322 0.0004921955\n",
       "pop75      1  53.34271  53.34271  3.6889104 0.0611254598\n",
       "dpi        1  12.40095  12.40095  0.8575863 0.3593550848\n",
       "ddpi       1  63.05403  63.05403  4.3604959 0.0424711387\n",
       "Residuals 45 650.71300  14.46029         NA           NA"
      ]
     },
     "metadata": {},
     "output_type": "display_data"
    },
    {
     "data": {
      "text/html": [
       "<table>\n",
       "<thead><tr><th></th><th scope=col>sr</th><th scope=col>pop15</th><th scope=col>pop75</th><th scope=col>dpi</th><th scope=col>ddpi</th></tr></thead>\n",
       "<tbody>\n",
       "\t<tr><th scope=row>Australia</th><td>11.43  </td><td>29.35  </td><td>2.87   </td><td>2329.68</td><td>2.87   </td></tr>\n",
       "\t<tr><th scope=row>Austria</th><td>12.07  </td><td>23.32  </td><td>4.41   </td><td>1507.99</td><td>3.93   </td></tr>\n",
       "\t<tr><th scope=row>Belgium</th><td>13.17  </td><td>23.80  </td><td>4.43   </td><td>2108.47</td><td>3.82   </td></tr>\n",
       "\t<tr><th scope=row>Bolivia</th><td> 5.75  </td><td>41.89  </td><td>1.67   </td><td> 189.13</td><td>0.22   </td></tr>\n",
       "\t<tr><th scope=row>Brazil</th><td>12.88  </td><td>42.19  </td><td>0.83   </td><td> 728.47</td><td>4.56   </td></tr>\n",
       "\t<tr><th scope=row>Canada</th><td> 8.79  </td><td>31.72  </td><td>2.85   </td><td>2982.88</td><td>2.43   </td></tr>\n",
       "</tbody>\n",
       "</table>\n"
      ],
      "text/latex": [
       "\\begin{tabular}{r|lllll}\n",
       "  & sr & pop15 & pop75 & dpi & ddpi\\\\\n",
       "\\hline\n",
       "\tAustralia & 11.43   & 29.35   & 2.87    & 2329.68 & 2.87   \\\\\n",
       "\tAustria & 12.07   & 23.32   & 4.41    & 1507.99 & 3.93   \\\\\n",
       "\tBelgium & 13.17   & 23.80   & 4.43    & 2108.47 & 3.82   \\\\\n",
       "\tBolivia &  5.75   & 41.89   & 1.67    &  189.13 & 0.22   \\\\\n",
       "\tBrazil & 12.88   & 42.19   & 0.83    &  728.47 & 4.56   \\\\\n",
       "\tCanada &  8.79   & 31.72   & 2.85    & 2982.88 & 2.43   \\\\\n",
       "\\end{tabular}\n"
      ],
      "text/markdown": [
       "\n",
       "| <!--/--> | sr | pop15 | pop75 | dpi | ddpi | \n",
       "|---|---|---|---|---|---|\n",
       "| Australia | 11.43   | 29.35   | 2.87    | 2329.68 | 2.87    | \n",
       "| Austria | 12.07   | 23.32   | 4.41    | 1507.99 | 3.93    | \n",
       "| Belgium | 13.17   | 23.80   | 4.43    | 2108.47 | 3.82    | \n",
       "| Bolivia |  5.75   | 41.89   | 1.67    |  189.13 | 0.22    | \n",
       "| Brazil | 12.88   | 42.19   | 0.83    |  728.47 | 4.56    | \n",
       "| Canada |  8.79   | 31.72   | 2.85    | 2982.88 | 2.43    | \n",
       "\n",
       "\n"
      ],
      "text/plain": [
       "          sr    pop15 pop75 dpi     ddpi\n",
       "Australia 11.43 29.35 2.87  2329.68 2.87\n",
       "Austria   12.07 23.32 4.41  1507.99 3.93\n",
       "Belgium   13.17 23.80 4.43  2108.47 3.82\n",
       "Bolivia    5.75 41.89 1.67   189.13 0.22\n",
       "Brazil    12.88 42.19 0.83   728.47 4.56\n",
       "Canada     8.79 31.72 2.85  2982.88 2.43"
      ]
     },
     "metadata": {},
     "output_type": "display_data"
    },
    {
     "data": {
      "image/jpeg": "[encoded data removed]",
      "image/png": "",
      "image/svg+xml": [
       "<?xml version=\"1.0\" encoding=\"UTF-8\"?>\n",
       "<svg xmlns=\"http://www.w3.org/2000/svg\" xmlns:xlink=\"http://www.w3.org/1999/xlink\" width=\"288pt\" height=\"216pt\" viewBox=\"0 0 288 216\" version=\"1.1\">\n",
       "<defs>\n",
       "<g>\n",
       "<symbol overflow=\"visible\" id=\"glyph0-0\">\n",
       "<path style=\"stroke:none;\" d=\"\"/>\n",
       "</symbol>\n",
       "<symbol overflow=\"visible\" id=\"glyph0-1\">\n",
       "<path style=\"stroke:none;\" d=\"M 4.46875 -0.125 L 4.46875 -9.125 L 3.515625 -9.125 C 3.09375 -7.625 2.96875 -7.578125 1.140625 -7.34375 L 1.140625 -6.3125 L 3.09375 -6.3125 L 3.09375 0 L 4.46875 0 Z M 4.46875 -0.125 \"/>\n",
       "</symbol>\n",
       "<symbol overflow=\"visible\" id=\"glyph0-2\">\n",
       "<path style=\"stroke:none;\" d=\"M 6.515625 -6.390625 C 6.515625 -7.890625 5.21875 -9.125 3.546875 -9.125 C 1.734375 -9.125 0.546875 -8.0625 0.484375 -5.78125 L 1.84375 -5.78125 C 1.9375 -7.40625 2.421875 -7.90625 3.515625 -7.90625 C 4.515625 -7.90625 5.125 -7.3125 5.125 -6.359375 C 5.125 -5.65625 4.75 -5.15625 3.96875 -4.703125 L 2.8125 -4.046875 C 0.96875 -3 0.390625 -2.078125 0.28125 0 L 6.453125 0 L 6.453125 -1.34375 L 1.8125 -1.34375 C 1.90625 -1.9375 2.265625 -2.3125 3.34375 -2.953125 L 4.59375 -3.625 C 5.84375 -4.28125 6.515625 -5.296875 6.515625 -6.390625 Z M 6.515625 -6.390625 \"/>\n",
       "</symbol>\n",
       "<symbol overflow=\"visible\" id=\"glyph0-3\">\n",
       "<path style=\"stroke:none;\" d=\"M 6.234375 -1.203125 L 6.234375 -6.8125 L 5.015625 -6.8125 L 5.015625 -5.71875 L 5.234375 -5.8125 C 4.71875 -6.59375 3.984375 -7 3.15625 -7 C 1.484375 -7 0.21875 -5.46875 0.21875 -3.34375 C 0.21875 -1.28125 1.53125 0.1875 3.0625 0.1875 C 3.890625 0.1875 4.546875 -0.203125 5.234375 -1.03125 L 5.015625 -1.109375 L 5.015625 -0.671875 C 5.015625 1.0625 4.4375 1.59375 3.21875 1.59375 C 2.40625 1.59375 1.890625 1.421875 1.734375 0.484375 L 0.421875 0.484375 C 0.546875 1.859375 1.65625 2.71875 3.1875 2.71875 C 5.234375 2.71875 6.234375 1.6875 6.234375 -1.203125 Z M 4.90625 -3.359375 C 4.90625 -1.796875 4.375 -1.03125 3.28125 -1.03125 C 2.140625 -1.03125 1.578125 -1.8125 1.578125 -3.40625 C 1.578125 -4.96875 2.15625 -5.78125 3.265625 -5.78125 C 4.390625 -5.78125 4.90625 -4.953125 4.90625 -3.359375 Z M 4.90625 -3.359375 \"/>\n",
       "</symbol>\n",
       "<symbol overflow=\"visible\" id=\"glyph0-4\">\n",
       "<path style=\"stroke:none;\" d=\"M 4.140625 -5.765625 L 4.140625 -6.9375 C 3.84375 -6.984375 3.75 -7 3.609375 -7 C 2.9375 -7 2.328125 -6.546875 1.71875 -5.578125 L 1.953125 -5.484375 L 1.953125 -6.8125 L 0.734375 -6.8125 L 0.734375 0 L 2.03125 0 L 2.03125 -3.53125 C 2.03125 -5 2.40625 -5.609375 4.140625 -5.640625 Z M 4.140625 -5.765625 \"/>\n",
       "</symbol>\n",
       "<symbol overflow=\"visible\" id=\"glyph0-5\">\n",
       "<path style=\"stroke:none;\" d=\"M 6.5 -3.34375 C 6.5 -5.609375 5.28125 -7 3.40625 -7 C 1.5625 -7 0.3125 -5.59375 0.3125 -3.40625 C 0.3125 -1.203125 1.546875 0.1875 3.40625 0.1875 C 5.25 0.1875 6.5 -1.203125 6.5 -3.34375 Z M 5.15625 -3.359375 C 5.15625 -1.828125 4.5625 -1.03125 3.40625 -1.03125 C 2.25 -1.03125 1.65625 -1.8125 1.65625 -3.40625 C 1.65625 -4.96875 2.25 -5.78125 3.40625 -5.78125 C 4.59375 -5.78125 5.15625 -4.984375 5.15625 -3.359375 Z M 5.15625 -3.359375 \"/>\n",
       "</symbol>\n",
       "<symbol overflow=\"visible\" id=\"glyph0-6\">\n",
       "<path style=\"stroke:none;\" d=\"M 6.15625 -0.125 L 6.15625 -6.8125 L 4.84375 -6.8125 L 4.84375 -3.0625 C 4.84375 -1.71875 4.28125 -0.984375 3.203125 -0.984375 C 2.375 -0.984375 1.96875 -1.34375 1.96875 -2.140625 L 1.96875 -6.8125 L 0.671875 -6.8125 L 0.671875 -1.71875 C 0.671875 -0.640625 1.625 0.1875 2.90625 0.1875 C 3.859375 0.1875 4.5625 -0.1875 5.171875 -1.046875 L 4.953125 -1.140625 L 4.953125 0 L 6.15625 0 Z M 6.15625 -0.125 \"/>\n",
       "</symbol>\n",
       "<symbol overflow=\"visible\" id=\"glyph0-7\">\n",
       "<path style=\"stroke:none;\" d=\"M 6.65625 -3.34375 C 6.65625 -5.53125 5.46875 -7 3.71875 -7 C 2.84375 -7 2.03125 -6.546875 1.53125 -5.78125 L 1.765625 -5.6875 L 1.765625 -6.8125 L 0.546875 -6.8125 L 0.546875 2.71875 L 1.84375 2.71875 L 1.84375 -0.90625 L 1.625 -0.828125 C 2.171875 -0.15625 2.890625 0.1875 3.734375 0.1875 C 5.421875 0.1875 6.65625 -1.25 6.65625 -3.34375 Z M 5.3125 -3.359375 C 5.3125 -1.875 4.6875 -1.046875 3.546875 -1.046875 C 2.453125 -1.046875 1.84375 -1.8125 1.84375 -3.34375 C 1.84375 -4.890625 2.453125 -5.765625 3.546875 -5.765625 C 4.703125 -5.765625 5.3125 -4.921875 5.3125 -3.359375 Z M 5.3125 -3.359375 \"/>\n",
       "</symbol>\n",
       "<symbol overflow=\"visible\" id=\"glyph1-0\">\n",
       "<path style=\"stroke:none;\" d=\"\"/>\n",
       "</symbol>\n",
       "<symbol overflow=\"visible\" id=\"glyph1-1\">\n",
       "<path style=\"stroke:none;\" d=\"M -3.125 -3.671875 L -4.15625 -3.671875 L -4.15625 -0.4375 L -3 -0.4375 L -3 -3.671875 Z M -3.125 -3.671875 \"/>\n",
       "</symbol>\n",
       "<symbol overflow=\"visible\" id=\"glyph1-2\">\n",
       "<path style=\"stroke:none;\" d=\"M -0.125 -4.46875 L -9.125 -4.46875 L -9.125 -3.515625 C -7.625 -3.09375 -7.578125 -2.96875 -7.34375 -1.140625 L -6.3125 -1.140625 L -6.3125 -3.09375 L 0 -3.09375 L 0 -4.46875 Z M -0.125 -4.46875 \"/>\n",
       "</symbol>\n",
       "<symbol overflow=\"visible\" id=\"glyph1-3\">\n",
       "<path style=\"stroke:none;\" d=\"M -2.703125 -6.453125 C -3.78125 -6.453125 -4.53125 -5.890625 -4.90625 -4.828125 L -4.640625 -4.828125 C -4.96875 -5.65625 -5.65625 -6.1875 -6.546875 -6.1875 C -8.078125 -6.1875 -9.125 -5.046875 -9.125 -3.359375 C -9.125 -1.578125 -8.015625 -0.484375 -6 -0.453125 L -6 -1.8125 C -7.4375 -1.84375 -7.90625 -2.25 -7.90625 -3.375 C -7.90625 -4.34375 -7.453125 -4.796875 -6.515625 -4.796875 C -5.5625 -4.796875 -5.3125 -4.53125 -5.3125 -2.625 L -4.125 -2.625 L -4.125 -3.359375 C -4.125 -4.578125 -3.671875 -5.0625 -2.6875 -5.0625 C -1.578125 -5.0625 -1.046875 -4.515625 -1.046875 -3.359375 C -1.046875 -2.15625 -1.515625 -1.703125 -2.9375 -1.609375 L -2.9375 -0.25 C -0.828125 -0.40625 0.1875 -1.515625 0.1875 -3.328125 C 0.1875 -5.15625 -1.03125 -6.453125 -2.703125 -6.453125 Z M -2.703125 -6.453125 \"/>\n",
       "</symbol>\n",
       "<symbol overflow=\"visible\" id=\"glyph1-4\">\n",
       "<path style=\"stroke:none;\" d=\"M -3.0625 -6.53125 C -4.8125 -6.53125 -6.09375 -5.25 -6.09375 -3.546875 C -6.09375 -2.921875 -5.890625 -2.328125 -5.71875 -2.09375 L -7.59375 -2.359375 L -7.59375 -6.078125 L -8.9375 -6.078125 L -8.9375 -1.25 L -4.03125 -0.546875 L -4.03125 -1.78125 C -4.6875 -2.328125 -4.859375 -2.65625 -4.859375 -3.34375 C -4.859375 -4.53125 -4.21875 -5.15625 -2.90625 -5.15625 C -1.640625 -5.15625 -1.046875 -4.546875 -1.046875 -3.34375 C -1.046875 -2.390625 -1.40625 -1.921875 -2.53125 -1.625 L -2.53125 -0.28125 C -0.640625 -0.65625 0.1875 -1.796875 0.1875 -3.375 C 0.1875 -5.15625 -1.1875 -6.53125 -3.0625 -6.53125 Z M -3.0625 -6.53125 \"/>\n",
       "</symbol>\n",
       "<symbol overflow=\"visible\" id=\"glyph1-5\">\n",
       "<path style=\"stroke:none;\" d=\"M -3.09375 -6.53125 C -4.046875 -6.53125 -4.65625 -6.46875 -5.140625 -6.28125 C -6.21875 -5.84375 -7 -4.71875 -7 -3.5 C -7 -1.671875 -5.515625 -0.359375 -3.359375 -0.359375 C -1.21875 -0.359375 0.1875 -1.640625 0.1875 -3.46875 C 0.1875 -4.96875 -0.78125 -6.140625 -2.25 -6.421875 L -2.25 -5.125 C -1.25 -4.796875 -1.03125 -4.34375 -1.03125 -3.515625 C -1.03125 -2.421875 -1.59375 -1.734375 -2.96875 -1.71875 L -2.96875 -6.53125 Z M -3.9375 -5.390625 C -3.9375 -5.390625 -4.0625 -5.203125 -4.09375 -5.21875 L -4.09375 -1.75 C -5.109375 -1.828125 -5.78125 -2.4375 -5.78125 -3.484375 C -5.78125 -4.515625 -5.046875 -5.15625 -4.03125 -5.15625 Z M -3.9375 -5.390625 \"/>\n",
       "</symbol>\n",
       "<symbol overflow=\"visible\" id=\"glyph1-6\">\n",
       "<path style=\"stroke:none;\" d=\"M -0.21875 -6 L -3.515625 -3.796875 L -6.8125 -6.09375 L -6.8125 -4.59375 L -4.53125 -3.09375 L -6.8125 -1.59375 L -6.8125 -0.09375 L -3.46875 -2.359375 L 0 0.03125 L 0 -1.46875 L -2.40625 -3.046875 L 0 -4.625 L 0 -6.15625 Z M -0.21875 -6 \"/>\n",
       "</symbol>\n",
       "<symbol overflow=\"visible\" id=\"glyph1-7\">\n",
       "<path style=\"stroke:none;\" d=\"M -0.125 -3.296875 L -1.171875 -3.296875 C -1.09375 -3.03125 -1.09375 -2.875 -1.09375 -2.671875 C -1.09375 -2.21875 -1.078125 -2.21875 -1.53125 -2.21875 L -5.703125 -2.21875 L -5.703125 -3.296875 L -6.8125 -3.296875 L -6.8125 -2.21875 L -8.609375 -2.21875 L -8.609375 -0.921875 L -6.8125 -0.921875 L -6.8125 -0.03125 L -5.703125 -0.03125 L -5.703125 -0.921875 L -1.078125 -0.921875 C -0.40625 -0.921875 0.09375 -1.515625 0.09375 -2.328125 C 0.09375 -2.578125 0.0625 -2.828125 -0.015625 -3.296875 Z M -0.125 -3.296875 \"/>\n",
       "</symbol>\n",
       "<symbol overflow=\"visible\" id=\"glyph1-8\">\n",
       "<path style=\"stroke:none;\" d=\"M -5.765625 -4.140625 L -6.9375 -4.140625 C -6.984375 -3.84375 -7 -3.75 -7 -3.609375 C -7 -2.9375 -6.546875 -2.328125 -5.578125 -1.71875 L -5.484375 -1.953125 L -6.8125 -1.953125 L -6.8125 -0.734375 L 0 -0.734375 L 0 -2.03125 L -3.53125 -2.03125 C -5 -2.03125 -5.609375 -2.40625 -5.640625 -4.140625 Z M -5.765625 -4.140625 \"/>\n",
       "</symbol>\n",
       "<symbol overflow=\"visible\" id=\"glyph1-9\">\n",
       "<path style=\"stroke:none;\" d=\"M -0.15625 -6.8125 L -1.09375 -6.8125 C -1.046875 -6.578125 -1.046875 -6.53125 -1.046875 -6.46875 C -1.046875 -6.09375 -1.09375 -6.03125 -1.421875 -6.03125 L -5.078125 -6.03125 C -6.234375 -6.03125 -7 -5.046875 -7 -3.4375 C -7 -1.84375 -6.25 -0.734375 -4.609375 -0.65625 L -4.609375 -1.96875 C -5.53125 -2.078125 -5.78125 -2.421875 -5.78125 -3.40625 C -5.78125 -4.34375 -5.546875 -4.71875 -4.921875 -4.71875 L -4.65625 -4.71875 C -4.21875 -4.71875 -4.15625 -4.59375 -4.0625 -3.78125 C -3.875 -2.296875 -3.828125 -2.078125 -3.65625 -1.671875 C -3.34375 -0.90625 -2.625 -0.390625 -1.828125 -0.390625 C -0.640625 -0.390625 0.1875 -1.34375 0.1875 -2.671875 C 0.1875 -3.515625 -0.203125 -4.40625 -0.640625 -4.828125 C -0.40625 -4.875 0.09375 -5.46875 0.09375 -5.96875 C 0.09375 -6.1875 0.0625 -6.34375 -0.046875 -6.8125 Z M -2.390625 -4.71875 C -1.453125 -4.71875 -0.984375 -3.90625 -0.984375 -2.90625 C -0.984375 -2.09375 -1.140625 -1.734375 -1.84375 -1.734375 C -2.53125 -1.734375 -2.71875 -2.078125 -2.875 -3.1875 C -3.03125 -4.28125 -3.078125 -4.515625 -3.171875 -4.71875 Z M -2.390625 -4.71875 \"/>\n",
       "</symbol>\n",
       "</g>\n",
       "</defs>\n",
       "<g id=\"surface80\">\n",
       "<rect x=\"0\" y=\"0\" width=\"288\" height=\"216\" style=\"fill:rgb(100%,100%,100%);fill-opacity:1;stroke:none;\"/>\n",
       "<path style=\" stroke:none;fill-rule:nonzero;fill:rgb(100%,100%,100%);fill-opacity:1;\" d=\"M 75.601562 124.21875 L 149.199219 124.21875 L 149.199219 100.253906 L 75.601562 100.253906 Z M 75.601562 124.21875 \"/>\n",
       "<path style=\"fill:none;stroke-width:3;stroke-linecap:butt;stroke-linejoin:round;stroke:rgb(0%,0%,0%);stroke-opacity:1;stroke-miterlimit:10;\" d=\"M 75.601562 118.226562 L 149.199219 118.226562 \"/>\n",
       "<path style=\"fill:none;stroke-width:1;stroke-linecap:round;stroke-linejoin:round;stroke:rgb(0%,0%,0%);stroke-opacity:1;stroke-dasharray:4,4;stroke-miterlimit:10;\" d=\"M 112.398438 139.464844 L 112.398438 124.21875 \"/>\n",
       "<path style=\"fill:none;stroke-width:1;stroke-linecap:round;stroke-linejoin:round;stroke:rgb(0%,0%,0%);stroke-opacity:1;stroke-dasharray:4,4;stroke-miterlimit:10;\" d=\"M 112.398438 81.738281 L 112.398438 100.253906 \"/>\n",
       "<path style=\"fill:none;stroke-width:1;stroke-linecap:round;stroke-linejoin:round;stroke:rgb(0%,0%,0%);stroke-opacity:1;stroke-miterlimit:10;\" d=\"M 94 139.464844 L 130.800781 139.464844 \"/>\n",
       "<path style=\"fill:none;stroke-width:1;stroke-linecap:round;stroke-linejoin:round;stroke:rgb(0%,0%,0%);stroke-opacity:1;stroke-miterlimit:10;\" d=\"M 94 81.738281 L 130.800781 81.738281 \"/>\n",
       "<path style=\"fill:none;stroke-width:1;stroke-linecap:round;stroke-linejoin:round;stroke:rgb(0%,0%,0%);stroke-opacity:1;stroke-miterlimit:10;\" d=\"M 75.601562 124.21875 L 149.199219 124.21875 L 149.199219 100.253906 L 75.601562 100.253906 L 75.601562 124.21875 \"/>\n",
       "<path style=\" stroke:none;fill-rule:nonzero;fill:rgb(100%,100%,100%);fill-opacity:1;\" d=\"M 167.601562 113.324219 L 241.199219 113.324219 L 241.199219 74.113281 L 167.601562 74.113281 Z M 167.601562 113.324219 \"/>\n",
       "<path style=\"fill:none;stroke-width:3;stroke-linecap:butt;stroke-linejoin:round;stroke:rgb(0%,0%,0%);stroke-opacity:1;stroke-miterlimit:10;\" d=\"M 167.601562 102.976562 L 241.199219 102.976562 \"/>\n",
       "<path style=\"fill:none;stroke-width:1;stroke-linecap:round;stroke-linejoin:round;stroke:rgb(0%,0%,0%);stroke-opacity:1;stroke-dasharray:4,4;stroke-miterlimit:10;\" d=\"M 204.398438 123.128906 L 204.398438 113.324219 \"/>\n",
       "<path style=\"fill:none;stroke-width:1;stroke-linecap:round;stroke-linejoin:round;stroke:rgb(0%,0%,0%);stroke-opacity:1;stroke-dasharray:4,4;stroke-miterlimit:10;\" d=\"M 204.398438 62.132812 L 204.398438 74.113281 \"/>\n",
       "<path style=\"fill:none;stroke-width:1;stroke-linecap:round;stroke-linejoin:round;stroke:rgb(0%,0%,0%);stroke-opacity:1;stroke-miterlimit:10;\" d=\"M 186 123.128906 L 222.800781 123.128906 \"/>\n",
       "<path style=\"fill:none;stroke-width:1;stroke-linecap:round;stroke-linejoin:round;stroke:rgb(0%,0%,0%);stroke-opacity:1;stroke-miterlimit:10;\" d=\"M 186 62.132812 L 222.800781 62.132812 \"/>\n",
       "<path style=\"fill:none;stroke-width:1;stroke-linecap:round;stroke-linejoin:round;stroke:rgb(0%,0%,0%);stroke-opacity:1;stroke-miterlimit:10;\" d=\"M 167.601562 113.324219 L 241.199219 113.324219 L 241.199219 74.113281 L 167.601562 74.113281 L 167.601562 113.324219 \"/>\n",
       "<path style=\"fill:none;stroke-width:1;stroke-linecap:round;stroke-linejoin:round;stroke:rgb(0%,0%,0%);stroke-opacity:1;stroke-miterlimit:10;\" d=\"M 112.398438 142.558594 L 204.398438 142.558594 \"/>\n",
       "<path style=\"fill:none;stroke-width:1;stroke-linecap:round;stroke-linejoin:round;stroke:rgb(0%,0%,0%);stroke-opacity:1;stroke-miterlimit:10;\" d=\"M 112.398438 142.558594 L 112.398438 149.761719 \"/>\n",
       "<path style=\"fill:none;stroke-width:1;stroke-linecap:round;stroke-linejoin:round;stroke:rgb(0%,0%,0%);stroke-opacity:1;stroke-miterlimit:10;\" d=\"M 204.398438 142.558594 L 204.398438 149.761719 \"/>\n",
       "<g style=\"fill:rgb(0%,0%,0%);fill-opacity:1;\">\n",
       "  <use xlink:href=\"#glyph0-1\" x=\"108.921875\" y=\"169.921875\"/>\n",
       "</g>\n",
       "<g style=\"fill:rgb(0%,0%,0%);fill-opacity:1;\">\n",
       "  <use xlink:href=\"#glyph0-2\" x=\"200.921875\" y=\"169.921875\"/>\n",
       "</g>\n",
       "<path style=\"fill:none;stroke-width:1;stroke-linecap:round;stroke-linejoin:round;stroke:rgb(0%,0%,0%);stroke-opacity:1;stroke-miterlimit:10;\" d=\"M 59.039062 132.929688 L 59.039062 67.578125 \"/>\n",
       "<path style=\"fill:none;stroke-width:1;stroke-linecap:round;stroke-linejoin:round;stroke:rgb(0%,0%,0%);stroke-opacity:1;stroke-miterlimit:10;\" d=\"M 59.039062 132.929688 L 51.839844 132.929688 \"/>\n",
       "<path style=\"fill:none;stroke-width:1;stroke-linecap:round;stroke-linejoin:round;stroke:rgb(0%,0%,0%);stroke-opacity:1;stroke-miterlimit:10;\" d=\"M 59.039062 122.039062 L 51.839844 122.039062 \"/>\n",
       "<path style=\"fill:none;stroke-width:1;stroke-linecap:round;stroke-linejoin:round;stroke:rgb(0%,0%,0%);stroke-opacity:1;stroke-miterlimit:10;\" d=\"M 59.039062 111.148438 L 51.839844 111.148438 \"/>\n",
       "<path style=\"fill:none;stroke-width:1;stroke-linecap:round;stroke-linejoin:round;stroke:rgb(0%,0%,0%);stroke-opacity:1;stroke-miterlimit:10;\" d=\"M 59.039062 100.253906 L 51.839844 100.253906 \"/>\n",
       "<path style=\"fill:none;stroke-width:1;stroke-linecap:round;stroke-linejoin:round;stroke:rgb(0%,0%,0%);stroke-opacity:1;stroke-miterlimit:10;\" d=\"M 59.039062 89.363281 L 51.839844 89.363281 \"/>\n",
       "<path style=\"fill:none;stroke-width:1;stroke-linecap:round;stroke-linejoin:round;stroke:rgb(0%,0%,0%);stroke-opacity:1;stroke-miterlimit:10;\" d=\"M 59.039062 78.472656 L 51.839844 78.472656 \"/>\n",
       "<path style=\"fill:none;stroke-width:1;stroke-linecap:round;stroke-linejoin:round;stroke:rgb(0%,0%,0%);stroke-opacity:1;stroke-miterlimit:10;\" d=\"M 59.039062 67.578125 L 51.839844 67.578125 \"/>\n",
       "<g style=\"fill:rgb(0%,0%,0%);fill-opacity:1;\">\n",
       "  <use xlink:href=\"#glyph1-1\" x=\"43.199219\" y=\"138.484375\"/>\n",
       "  <use xlink:href=\"#glyph1-2\" x=\"43.199219\" y=\"134.321854\"/>\n",
       "</g>\n",
       "<g style=\"fill:rgb(0%,0%,0%);fill-opacity:1;\">\n",
       "  <use xlink:href=\"#glyph1-2\" x=\"43.199219\" y=\"114.625\"/>\n",
       "</g>\n",
       "<g style=\"fill:rgb(0%,0%,0%);fill-opacity:1;\">\n",
       "  <use xlink:href=\"#glyph1-3\" x=\"43.199219\" y=\"92.839844\"/>\n",
       "</g>\n",
       "<g style=\"fill:rgb(0%,0%,0%);fill-opacity:1;\">\n",
       "  <use xlink:href=\"#glyph1-4\" x=\"43.199219\" y=\"71.054688\"/>\n",
       "</g>\n",
       "<g style=\"fill:rgb(0%,0%,0%);fill-opacity:1;\">\n",
       "  <use xlink:href=\"#glyph0-3\" x=\"142.417969\" y=\"198.71875\"/>\n",
       "  <use xlink:href=\"#glyph0-4\" x=\"149.367996\" y=\"198.71875\"/>\n",
       "  <use xlink:href=\"#glyph0-5\" x=\"153.530518\" y=\"198.71875\"/>\n",
       "  <use xlink:href=\"#glyph0-6\" x=\"160.480545\" y=\"198.71875\"/>\n",
       "  <use xlink:href=\"#glyph0-7\" x=\"167.430573\" y=\"198.71875\"/>\n",
       "</g>\n",
       "<g style=\"fill:rgb(0%,0%,0%);fill-opacity:1;\">\n",
       "  <use xlink:href=\"#glyph1-5\" x=\"14.398438\" y=\"114.695312\"/>\n",
       "  <use xlink:href=\"#glyph1-6\" x=\"14.398438\" y=\"107.745285\"/>\n",
       "  <use xlink:href=\"#glyph1-7\" x=\"14.398438\" y=\"101.495255\"/>\n",
       "  <use xlink:href=\"#glyph1-8\" x=\"14.398438\" y=\"98.020248\"/>\n",
       "  <use xlink:href=\"#glyph1-9\" x=\"14.398438\" y=\"93.857727\"/>\n",
       "</g>\n",
       "<path style=\"fill:none;stroke-width:1;stroke-linecap:round;stroke-linejoin:round;stroke:rgb(0%,0%,0%);stroke-opacity:1;stroke-miterlimit:10;\" d=\"M 59.039062 142.558594 L 257.761719 142.558594 L 257.761719 59.039062 L 59.039062 59.039062 L 59.039062 142.558594 \"/>\n",
       "</g>\n",
       "</svg>\n"
      ]
     },
     "metadata": {
      "image/svg+xml": {
       "isolated": true
      }
     },
     "output_type": "display_data"
    }
   ],
   "source": [
    "require(graphics)\n",
    "\n",
    "t.test(1:10,y=c(7:20))\n",
    "t.test(1:10,y=c(7:20,200))\n",
    "\n",
    "plot(extra~group,data=sleep)\n",
    "\n",
    "plot(extra~group,data=sleep)\n",
    "\n",
    "with(sleep,t.test(extra[group==1],extra[group==2]))\n",
    "\n",
    "t.test(extra~group,data=sleep)\n",
    "\n",
    "fit <- lm(sr ~ ., data = LifeCycleSavings)\n",
    "anova(fit)\n",
    "head(LifeCycleSavings)"
   ]
  },
  {
   "cell_type": "code",
   "execution_count": 4,
   "metadata": {},
   "outputs": [
    {
     "name": "stdout",
     "output_type": "stream",
     "text": [
      "  treatment outcome counts\n",
      "1         1       1     18\n",
      "2         1       2     17\n",
      "3         1       3     15\n",
      "4         2       1     20\n",
      "5         2       2     10\n",
      "6         2       3     20\n",
      "7         3       1     25\n",
      "8         3       2     13\n",
      "9         3       3     12\n"
     ]
    },
    {
     "data": {
      "text/html": [
       "<table>\n",
       "<thead><tr><th></th><th scope=col>Df</th><th scope=col>Deviance</th><th scope=col>Resid. Df</th><th scope=col>Resid. Dev</th></tr></thead>\n",
       "<tbody>\n",
       "\t<tr><th scope=row>NULL</th><td>NA       </td><td>      NA </td><td>8        </td><td>10.581446</td></tr>\n",
       "\t<tr><th scope=row>outcome</th><td> 2       </td><td>5.452305 </td><td>6        </td><td> 5.129141</td></tr>\n",
       "\t<tr><th scope=row>treatment</th><td> 2       </td><td>0.000000 </td><td>4        </td><td> 5.129141</td></tr>\n",
       "</tbody>\n",
       "</table>\n"
      ],
      "text/latex": [
       "\\begin{tabular}{r|llll}\n",
       "  & Df & Deviance & Resid. Df & Resid. Dev\\\\\n",
       "\\hline\n",
       "\tNULL & NA        &       NA  & 8         & 10.581446\\\\\n",
       "\toutcome &  2        & 5.452305  & 6         &  5.129141\\\\\n",
       "\ttreatment &  2        & 0.000000  & 4         &  5.129141\\\\\n",
       "\\end{tabular}\n"
      ],
      "text/markdown": [
       "\n",
       "| <!--/--> | Df | Deviance | Resid. Df | Resid. Dev | \n",
       "|---|---|---|\n",
       "| NULL | NA        |       NA  | 8         | 10.581446 | \n",
       "| outcome |  2        | 5.452305  | 6         |  5.129141 | \n",
       "| treatment |  2        | 0.000000  | 4         |  5.129141 | \n",
       "\n",
       "\n"
      ],
      "text/plain": [
       "          Df Deviance Resid. Df Resid. Dev\n",
       "NULL      NA       NA 8         10.581446 \n",
       "outcome    2 5.452305 6          5.129141 \n",
       "treatment  2 0.000000 4          5.129141 "
      ]
     },
     "metadata": {},
     "output_type": "display_data"
    },
    {
     "data": {
      "text/plain": [
       "\n",
       "Call:\n",
       "glm(formula = counts ~ outcome + treatment, family = poisson())\n",
       "\n",
       "Deviance Residuals: \n",
       "       1         2         3         4         5         6         7         8  \n",
       "-0.67125   0.96272  -0.16965  -0.21999  -0.95552   1.04939   0.84715  -0.09167  \n",
       "       9  \n",
       "-0.96656  \n",
       "\n",
       "Coefficients:\n",
       "              Estimate Std. Error z value Pr(>|z|)    \n",
       "(Intercept)  3.045e+00  1.709e-01  17.815   <2e-16 ***\n",
       "outcome2    -4.543e-01  2.022e-01  -2.247   0.0246 *  \n",
       "outcome3    -2.930e-01  1.927e-01  -1.520   0.1285    \n",
       "treatment2  -7.635e-16  2.000e-01   0.000   1.0000    \n",
       "treatment3  -9.532e-16  2.000e-01   0.000   1.0000    \n",
       "---\n",
       "Signif. codes:  0 '***' 0.001 '**' 0.01 '*' 0.05 '.' 0.1 ' ' 1\n",
       "\n",
       "(Dispersion parameter for poisson family taken to be 1)\n",
       "\n",
       "    Null deviance: 10.5814  on 8  degrees of freedom\n",
       "Residual deviance:  5.1291  on 4  degrees of freedom\n",
       "AIC: 56.761\n",
       "\n",
       "Number of Fisher Scoring iterations: 4\n"
      ]
     },
     "metadata": {},
     "output_type": "display_data"
    }
   ],
   "source": [
    "# prepare data set\n",
    "counts <- c(18,17,15,20,10,20,25,13,12)\n",
    "outcome <- gl(3,1,9)\n",
    "treatment <- gl(3,3)\n",
    "\n",
    "print(d.AD <- data.frame(treatment, outcome, counts))\n",
    "\n",
    "# data model\n",
    "glm.093 <- glm(counts ~ outcome + treatment, family = poisson())\n",
    "\n",
    "anova(glm.093)\n",
    "summary(glm.093)"
   ]
  }
 ],
 "metadata": {
  "kernelspec": {
   "display_name": "R",
   "language": "R",
   "name": "r"
  },
  "language_info": {
   "codemirror_mode": "r",
   "file_extension": ".r",
   "mimetype": "text/x-r-source",
   "name": "R",
   "pygments_lexer": "r",
   "version": "3.4.1"
  }
 },
 "nbformat": 4,
 "nbformat_minor": 2
}
